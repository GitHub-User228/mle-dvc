{
 "cells": [
  {
   "cell_type": "code",
   "execution_count": 11,
   "metadata": {},
   "outputs": [],
   "source": [
    "import os\n",
    "\n",
    "import boto3\n",
    "from dotenv import load_dotenv"
   ]
  },
  {
   "cell_type": "code",
   "execution_count": 9,
   "metadata": {},
   "outputs": [
    {
     "data": {
      "text/plain": [
       "True"
      ]
     },
     "execution_count": 9,
     "metadata": {},
     "output_type": "execute_result"
    }
   ],
   "source": [
    "load_dotenv()"
   ]
  },
  {
   "cell_type": "code",
   "execution_count": 12,
   "metadata": {},
   "outputs": [],
   "source": [
    "s3_bucket = os.environ.get('S3_BUCKET_NAME')\n",
    "s3_access_key = os.environ.get('AWS_ACCESS_KEY_ID')\n",
    "s3_secret_access_key = os.environ.get('AWS_SECRET_ACCESS_KEY')"
   ]
  },
  {
   "cell_type": "code",
   "execution_count": 13,
   "metadata": {},
   "outputs": [],
   "source": [
    "\n",
    "session = boto3.Session(\n",
    "    aws_access_key_id=s3_access_key,\n",
    "    aws_secret_access_key=s3_secret_access_key,\n",
    "    region_name='RU'\n",
    ")\n",
    "\n",
    "s3 = session.client('s3', endpoint_url='https://storage.yandexcloud.net')\n"
   ]
  },
  {
   "cell_type": "code",
   "execution_count": 14,
   "metadata": {},
   "outputs": [
    {
     "name": "stdout",
     "output_type": "stream",
     "text": [
      "Object Key: cv_results/cv_res.json\n",
      "Object Key: data/initial_data.csv\n",
      "Object Key: models/fitted_model.pkl\n"
     ]
    }
   ],
   "source": [
    "response = s3.list_objects_v2(Bucket=s3_bucket)\n",
    "for obj in response.get('Contents', []):\n",
    "    print(f'Object Key: {obj[\"Key\"]}')"
   ]
  },
  {
   "cell_type": "code",
   "execution_count": 15,
   "metadata": {},
   "outputs": [
    {
     "name": "stdout",
     "output_type": "stream",
     "text": [
      "Deleting cv_results/cv_res.json\n",
      "Deleting data/initial_data.csv\n",
      "Deleting models/fitted_model.pkl\n",
      "All objects in bucket s3-student-mle-20240730-73c4e0c760 have been deleted.\n"
     ]
    }
   ],
   "source": [
    "if 'Contents' in response:\n",
    "    for obj in response['Contents']:\n",
    "        print(f'Deleting {obj[\"Key\"]}')\n",
    "        s3.delete_object(Bucket=s3_bucket, Key=obj['Key'])\n",
    "\n",
    "print(f'All objects in bucket {s3_bucket} have been deleted.')"
   ]
  },
  {
   "cell_type": "code",
   "execution_count": 16,
   "metadata": {},
   "outputs": [],
   "source": [
    "response = s3.list_objects_v2(Bucket=s3_bucket)\n",
    "for obj in response.get('Contents', []):\n",
    "    print(f'Object Key: {obj[\"Key\"]}')"
   ]
  },
  {
   "cell_type": "code",
   "execution_count": null,
   "metadata": {},
   "outputs": [],
   "source": []
  }
 ],
 "metadata": {
  "kernelspec": {
   "display_name": ".venv_mle_dvc",
   "language": "python",
   "name": "python3"
  },
  "language_info": {
   "codemirror_mode": {
    "name": "ipython",
    "version": 3
   },
   "file_extension": ".py",
   "mimetype": "text/x-python",
   "name": "python",
   "nbconvert_exporter": "python",
   "pygments_lexer": "ipython3",
   "version": "3.10.12"
  }
 },
 "nbformat": 4,
 "nbformat_minor": 2
}
